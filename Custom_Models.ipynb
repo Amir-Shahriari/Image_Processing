{
 "cells": [
  {
   "cell_type": "markdown",
   "id": "b93df516",
   "metadata": {},
   "source": [
    "### This file contains the tests to examine and evaluate the functions."
   ]
  },
  {
   "cell_type": "markdown",
   "id": "500a242e",
   "metadata": {},
   "source": [
    "Required libraries and modules need to be imported"
   ]
  },
  {
   "cell_type": "code",
   "execution_count": 12,
   "id": "3961c9df",
   "metadata": {},
   "outputs": [
    {
     "name": "stderr",
     "output_type": "stream",
     "text": [
      "C:\\Users\\amirs\\AppData\\Local\\Temp\\ipykernel_18404\\2829997608.py:3: DeprecationWarning: `import kerastuner` is deprecated, please use `import keras_tuner`.\n",
      "  from kerastuner.engine.hyperparameters import HyperParameters\n"
     ]
    }
   ],
   "source": [
    "from tensorflow.keras.datasets import mnist\n",
    "import keras_tuner as kt\n",
    "from kerastuner.engine.hyperparameters import HyperParameters\n",
    "from tensorflow.keras import layers, models\n",
    "import a1\n",
    "\n",
    "# the data from the MNIST dataset should be loaded and preprocessed \n",
    "(train_images, train_labels), (test_images, test_labels) = mnist.load_data()\n",
    "train_images = train_images.reshape((60000, 28, 28, 1)).astype('float32') / 255 # we want the pixel values to be between 0 and 1\n",
    "test_images = test_images.reshape((10000, 28, 28, 1)).astype('float32') / 255  "
   ]
  },
  {
   "cell_type": "markdown",
   "id": "df7a40c1",
   "metadata": {},
   "source": [
    "here is the part where i train and evaluate the build_deep_nn function."
   ]
  },
  {
   "cell_type": "code",
   "execution_count": 13,
   "id": "fed53d93",
   "metadata": {
    "scrolled": false
   },
   "outputs": [
    {
     "name": "stdout",
     "output_type": "stream",
     "text": [
      "Trial 10 Complete [00h 00m 46s]\n",
      "val_accuracy: 0.9763333201408386\n",
      "\n",
      "Best val_accuracy So Far: 0.9770833253860474\n",
      "Total elapsed time: 00h 07m 11s\n",
      "Best Hyperparameters: {'num_hidden': 1, 'dropout_rate': 0.27559674121811384, 'hidden_size': 256}\n",
      "Best Model Summary:\n",
      "Model: \"sequential\"\n",
      "_________________________________________________________________\n",
      " Layer (type)                Output Shape              Param #   \n",
      "=================================================================\n",
      " flatten (Flatten)           (None, 784)               0         \n",
      "                                                                 \n",
      " dense (Dense)               (None, 256)               200960    \n",
      "                                                                 \n",
      " dropout (Dropout)           (None, 256)               0         \n",
      "                                                                 \n",
      " dense_1 (Dense)             (None, 10)                2570      \n",
      "                                                                 \n",
      "=================================================================\n",
      "Total params: 203530 (795.04 KB)\n",
      "Trainable params: 203530 (795.04 KB)\n",
      "Non-trainable params: 0 (0.00 Byte)\n",
      "_________________________________________________________________\n"
     ]
    }
   ],
   "source": [
    "# now the function build_model for Kerastuner can be defined\n",
    "def build_model(hp):\n",
    "    num_hidden = hp.Int('num_hidden', 1, 3, default = 2) # range between 1 to 3 with the default set to 2\n",
    "    dropout_rate = hp.Float('dropout_rate', 0.0, 0.9, default = 0)  # range between 0 to 0.9 with the default set to 0\n",
    "    hidden_size = hp.Int('hidden_size', 32, 256, step = 32, default = 128) # range between 32 to 256 with 32 step size and default set to 128\n",
    "\n",
    "    hidden_sizes = [hidden_size] * num_hidden # dinamically assigns the right value for the input parameters of build_deep_nn \n",
    "    dropout_rates = [dropout_rate] * num_hidden # function in each iteration\n",
    "\n",
    "    model = a1.build_deep_nn(28, 28, 1, num_hidden, hidden_sizes, dropout_rates, 10, 'softmax') # the shape of each image is 28*28\n",
    "                                                                                                # with one dimension, we have 10 classes\n",
    "                                                                                                # so the output-shape should be 10\n",
    "                                                                                                # softmax is a commonly used activation\n",
    "                                                                                                # function for classification approaches\n",
    "    \n",
    "    model.compile(optimizer='adam', loss='sparse_categorical_crossentropy', metrics=['accuracy']) \n",
    "    \n",
    "    return model\n",
    "\n",
    "# now we can create Kerastuner BayesianOptimization instance\n",
    "tuner = kt.BayesianOptimization(\n",
    "    build_model,\n",
    "    objective='val_accuracy',\n",
    "    max_trials=10,\n",
    "    num_initial_points=2,\n",
    "    overwrite=True\n",
    ")\n",
    "\n",
    "# this function searches for the best hyperparameters\n",
    "tuner.search(train_images, train_labels, epochs=5, validation_split=0.2)\n",
    "\n",
    "# printing out the best hyperparameters and model summary\n",
    "best_hp = tuner.oracle.get_best_trials(1)[0].hyperparameters.values\n",
    "best_model = tuner.get_best_models(1)[0]\n",
    "\n",
    "print(\"Best Hyperparameters:\", best_hp)\n",
    "print(\"Best Model Summary:\")\n",
    "best_model.summary()\n"
   ]
  },
  {
   "cell_type": "markdown",
   "id": "26013a18",
   "metadata": {},
   "source": [
    "time to train our model based on the best hyper parameters we mentioned in the model summary of the keras tuner."
   ]
  },
  {
   "cell_type": "code",
   "execution_count": 24,
   "id": "2f16ed05",
   "metadata": {
    "scrolled": true
   },
   "outputs": [
    {
     "name": "stdout",
     "output_type": "stream",
     "text": [
      "WARNING:tensorflow:Detecting that an object or model or tf.train.Checkpoint is being deleted with unrestored values. See the following logs for the specific values in question. To silence these warnings, use `status.expect_partial()`. See https://www.tensorflow.org/api_docs/python/tf/train/Checkpoint#restorefor details about the status object returned by the restore function.\n",
      "WARNING:tensorflow:Value in checkpoint could not be found in the restored object: (root).optimizer._variables.1\n",
      "WARNING:tensorflow:Value in checkpoint could not be found in the restored object: (root).optimizer._variables.2\n",
      "WARNING:tensorflow:Value in checkpoint could not be found in the restored object: (root).optimizer._variables.3\n",
      "WARNING:tensorflow:Value in checkpoint could not be found in the restored object: (root).optimizer._variables.4\n",
      "WARNING:tensorflow:Value in checkpoint could not be found in the restored object: (root).optimizer._variables.5\n",
      "WARNING:tensorflow:Value in checkpoint could not be found in the restored object: (root).optimizer._variables.6\n",
      "WARNING:tensorflow:Value in checkpoint could not be found in the restored object: (root).optimizer._variables.7\n",
      "WARNING:tensorflow:Value in checkpoint could not be found in the restored object: (root).optimizer._variables.8\n",
      "Epoch 1/5\n",
      "1500/1500 [==============================] - 10s 6ms/step - loss: 0.2940 - accuracy: 0.9128 - val_loss: 0.1442 - val_accuracy: 0.9562\n",
      "Epoch 2/5\n",
      "1500/1500 [==============================] - 9s 6ms/step - loss: 0.1351 - accuracy: 0.9590 - val_loss: 0.1041 - val_accuracy: 0.9688\n",
      "Epoch 3/5\n",
      "1500/1500 [==============================] - 10s 6ms/step - loss: 0.0988 - accuracy: 0.9696 - val_loss: 0.0919 - val_accuracy: 0.9716\n",
      "Epoch 4/5\n",
      "1500/1500 [==============================] - 11s 7ms/step - loss: 0.0792 - accuracy: 0.9756 - val_loss: 0.0842 - val_accuracy: 0.9746\n",
      "Epoch 5/5\n",
      "1500/1500 [==============================] - 9s 6ms/step - loss: 0.0646 - accuracy: 0.9798 - val_loss: 0.0774 - val_accuracy: 0.9778\n"
     ]
    },
    {
     "data": {
      "text/plain": [
       "<keras.src.callbacks.History at 0x21c9f51c850>"
      ]
     },
     "execution_count": 24,
     "metadata": {},
     "output_type": "execute_result"
    }
   ],
   "source": [
    "# setting the hyper paremeters that we found\n",
    "best_model = a1.build_deep_nn(28, 28, 1, 1, [256], [0.27559674121811384], 10, 'softmax')\n",
    "# we compile the model before using it\n",
    "best_model.compile(optimizer='adam', loss='sparse_categorical_crossentropy', metrics=['accuracy'])\n",
    "# time to train the model and feed the data\n",
    "best_model.fit(train_images, train_labels, epochs=5, validation_split=0.2)"
   ]
  },
  {
   "cell_type": "markdown",
   "id": "ceeba9df",
   "metadata": {},
   "source": [
    "here's the evaluation of the model on the test dataset"
   ]
  },
  {
   "cell_type": "code",
   "execution_count": 25,
   "id": "ac6bab2d",
   "metadata": {},
   "outputs": [
    {
     "name": "stdout",
     "output_type": "stream",
     "text": [
      "313/313 [==============================] - 1s 3ms/step - loss: 0.0721 - accuracy: 0.9793\n",
      "Test Accuracy: 0.9793000221252441\n"
     ]
    }
   ],
   "source": [
    "test_loss, test_accuracy = best_model.evaluate(test_images, test_labels)\n",
    "\n",
    "print(\"Test Accuracy:\", test_accuracy)"
   ]
  },
  {
   "cell_type": "markdown",
   "id": "a21ba4fd",
   "metadata": {},
   "source": [
    "### manual tests for the first two function"
   ]
  },
  {
   "cell_type": "code",
   "execution_count": 14,
   "id": "3aa236fc",
   "metadata": {
    "scrolled": true
   },
   "outputs": [],
   "source": [
    "import numpy as np"
   ]
  },
  {
   "cell_type": "markdown",
   "id": "22c0bfe6",
   "metadata": {},
   "source": [
    "Testing the first function in different scenarios."
   ]
  },
  {
   "cell_type": "code",
   "execution_count": 15,
   "id": "edc9101f",
   "metadata": {
    "scrolled": true
   },
   "outputs": [
    {
     "name": "stdout",
     "output_type": "stream",
     "text": [
      "Image Resolution: (3, 3)\n",
      "Number of Dark Pixels in each Channel: (6, 5, 6)\n"
     ]
    }
   ],
   "source": [
    "image = np.array([[[250,   2,   2], [  0, 12,   2], [  0,   56, 255]], \n",
    "                [[  2,   2,   2], [250, 255, 255], [127, 127, 127]],\n",
    "                [[  4,   4,   4], [6, 55, 6], [8, 8, 8]]])\n",
    "darkness_threshold = 50\n",
    "image_result = a1.image_statistics(image, darkness_threshold)\n",
    "print(f\"Image Resolution: {image_result['resolution']}\")\n",
    "print(f\"Number of Dark Pixels in each Channel: {image_result['dark_pixels']}\")"
   ]
  },
  {
   "cell_type": "code",
   "execution_count": 16,
   "id": "b8245b2d",
   "metadata": {},
   "outputs": [],
   "source": [
    "image = np.array([[[250,   2,   2], [  0, 12,   2], [  0,   56, 255]], \n",
    "                [[  2,   2,   2], [250, 255, 255], [127, 127, 127]],\n",
    "                [[  4,   4,   4], [6, 55, 6], [8, 8, 8]],\n",
    "                [[  2,   2,   2], [250, 255, 255], [127, 127, 127]]])"
   ]
  },
  {
   "cell_type": "code",
   "execution_count": 17,
   "id": "5589d9fe",
   "metadata": {
    "scrolled": true
   },
   "outputs": [
    {
     "name": "stdout",
     "output_type": "stream",
     "text": [
      "Image Resolution: (4, 3)\n",
      "Number of Dark Pixels in each Channel: (4, 3, 4)\n"
     ]
    }
   ],
   "source": [
    "darkness_threshold = 3\n",
    "image_result = a1.image_statistics(image, darkness_threshold)\n",
    "print(f\"Image Resolution: {image_result['resolution']}\")\n",
    "print(f\"Number of Dark Pixels in each Channel: {image_result['dark_pixels']}\")"
   ]
  },
  {
   "cell_type": "markdown",
   "id": "7dd86491",
   "metadata": {},
   "source": [
    "Testing the second function in different scenarios."
   ]
  },
  {
   "cell_type": "code",
   "execution_count": 18,
   "id": "2b5c604d",
   "metadata": {},
   "outputs": [],
   "source": [
    "image = np.array([[[250,   2,   2], [  0, 255,   2], [  0,   0, 255]], \n",
    "                [[  2,   2,   2], [250, 255, 255], [127, 127, 127]]])"
   ]
  },
  {
   "cell_type": "code",
   "execution_count": 19,
   "id": "75550b28",
   "metadata": {
    "scrolled": true
   },
   "outputs": [
    {
     "data": {
      "text/plain": [
       "array([[[250,   2,   2]],\n",
       "\n",
       "       [[  2,   2,   2]]])"
      ]
     },
     "execution_count": 19,
     "metadata": {},
     "output_type": "execute_result"
    }
   ],
   "source": [
    "a1.bounding_box(image, (0, 0), (1, 0))"
   ]
  },
  {
   "cell_type": "code",
   "execution_count": 20,
   "id": "9b265f01",
   "metadata": {},
   "outputs": [
    {
     "data": {
      "text/plain": [
       "array([[[250,   2,   2],\n",
       "        [  0, 255,   2]],\n",
       "\n",
       "       [[  2,   2,   2],\n",
       "        [250, 255, 255]]])"
      ]
     },
     "execution_count": 20,
     "metadata": {},
     "output_type": "execute_result"
    }
   ],
   "source": [
    "a1.bounding_box(image, (0, 0), (1, 1))"
   ]
  },
  {
   "cell_type": "code",
   "execution_count": 21,
   "id": "ba448211",
   "metadata": {},
   "outputs": [],
   "source": [
    "image = np.array([[[250,   2,   2], [  0, 12,   2], [  0,   56, 255]], \n",
    "                [[  2,   2,   2], [250, 255, 255], [127, 127, 127]],\n",
    "                [[  4,   4,   4], [6, 55, 6], [8, 8, 8]],\n",
    "                [[  2,   2,   2], [250, 255, 255], [127, 127, 127]]])"
   ]
  },
  {
   "cell_type": "code",
   "execution_count": 22,
   "id": "6297cfe6",
   "metadata": {
    "scrolled": true
   },
   "outputs": [
    {
     "data": {
      "text/plain": [
       "array([[[250,   2,   2],\n",
       "        [  0,  12,   2]],\n",
       "\n",
       "       [[  2,   2,   2],\n",
       "        [250, 255, 255]],\n",
       "\n",
       "       [[  4,   4,   4],\n",
       "        [  6,  55,   6]]])"
      ]
     },
     "execution_count": 22,
     "metadata": {},
     "output_type": "execute_result"
    }
   ],
   "source": [
    "a1.bounding_box(image, (0, 0), (2, 1))"
   ]
  },
  {
   "cell_type": "code",
   "execution_count": 23,
   "id": "8349d5f7",
   "metadata": {
    "scrolled": true
   },
   "outputs": [
    {
     "data": {
      "text/plain": [
       "array([[[250,   2,   2],\n",
       "        [  0,  12,   2]],\n",
       "\n",
       "       [[  2,   2,   2],\n",
       "        [250, 255, 255]],\n",
       "\n",
       "       [[  4,   4,   4],\n",
       "        [  6,  55,   6]],\n",
       "\n",
       "       [[  2,   2,   2],\n",
       "        [250, 255, 255]]])"
      ]
     },
     "execution_count": 23,
     "metadata": {},
     "output_type": "execute_result"
    }
   ],
   "source": [
    "a1.bounding_box(image, (0, 0), (3, 1))"
   ]
  },
  {
   "cell_type": "code",
   "execution_count": 11,
   "id": "c10a6a00",
   "metadata": {
    "scrolled": true
   },
   "outputs": [
    {
     "data": {
      "text/plain": [
       "array([[[250,   2,   2],\n",
       "        [  0,  12,   2],\n",
       "        [  0,  56, 255]],\n",
       "\n",
       "       [[  2,   2,   2],\n",
       "        [250, 255, 255],\n",
       "        [127, 127, 127]],\n",
       "\n",
       "       [[  4,   4,   4],\n",
       "        [  6,  55,   6],\n",
       "        [  8,   8,   8]],\n",
       "\n",
       "       [[  2,   2,   2],\n",
       "        [250, 255, 255],\n",
       "        [127, 127, 127]]])"
      ]
     },
     "execution_count": 11,
     "metadata": {},
     "output_type": "execute_result"
    }
   ],
   "source": [
    "a1.bounding_box(image, (0, 0), (3, 2))"
   ]
  }
 ],
 "metadata": {
  "kernelspec": {
   "display_name": "Python 3 (ipykernel)",
   "language": "python",
   "name": "python3"
  },
  "language_info": {
   "codemirror_mode": {
    "name": "ipython",
    "version": 3
   },
   "file_extension": ".py",
   "mimetype": "text/x-python",
   "name": "python",
   "nbconvert_exporter": "python",
   "pygments_lexer": "ipython3",
   "version": "3.11.5"
  }
 },
 "nbformat": 4,
 "nbformat_minor": 5
}
